{
 "cells": [
  {
   "cell_type": "code",
   "execution_count": 736,
   "metadata": {},
   "outputs": [],
   "source": [
    "import numpy as np\n",
    "import pandas as pd\n",
    "import matplotlib.pyplot as plt\n",
    "import seaborn as sns\n",
    "from sklearn.impute import SimpleImputer\n",
    "from sklearn.model_selection import train_test_split, cross_val_score\n",
    "from sklearn.linear_model import LogisticRegression\n",
    "from sklearn.metrics import accuracy_score, confusion_matrix, classification_report, roc_auc_score, roc_curve\n",
    "from sklearn.preprocessing import StandardScaler, PolynomialFeatures\n",
    "from sklearn.ensemble import RandomForestClassifier\n",
    "from xgboost import XGBClassifier"
   ]
  },
  {
   "cell_type": "code",
   "execution_count": 737,
   "metadata": {},
   "outputs": [],
   "source": [
    "data = pd.read_csv('train.csv')\n",
    "X = data.iloc[:,[2,4,5,6,7,9,11]]\n",
    "y_train = data.iloc[:,1]\n",
    "test_data = pd.read_csv('test.csv')\n",
    "X_test = test_data.iloc[:,[1,3,4,5,6,8,10]]\n",
    "\n"
   ]
  },
  {
   "cell_type": "code",
   "execution_count": 738,
   "metadata": {},
   "outputs": [],
   "source": [
    "categorical_features = X.select_dtypes(include=['object','category']).columns\n",
    "imputer = SimpleImputer(strategy='constant',fill_value='Missing')\n",
    "X.loc[:,categorical_features] = imputer.fit_transform(X[categorical_features])\n",
    "X_test.loc[:,categorical_features] = imputer.transform(X_test[categorical_features])\n",
    "imputer = SimpleImputer(strategy='mean')\n",
    "X.loc[:,'Age'] = imputer.fit_transform(X[['Age']])\n",
    "X_test.loc[:,'Age'] = imputer.transform(X_test[['Age']])\n",
    "X.loc[:,'Fare'] = imputer.fit_transform(X[['Fare']])\n",
    "X_test.loc[:,'Fare'] = imputer.transform(X_test[['Fare']])\n",
    "X = X.copy()\n",
    "X_test = X_test.copy()\n",
    "X.loc[:,'FamilySize'] = X.loc[:,'SibSp'] + X.loc[:,'Parch'] + 1\n",
    "X.loc[:,'IsAlone'] = (X.loc[:,'FamilySize']==1).astype(float)\n",
    "X_test.loc[:,'FamilySize'] = X_test.loc[:,'SibSp'] + X_test.loc[:,'Parch'] + 1\n",
    "X_test.loc[:,'IsAlone'] = (X_test.loc[:,'FamilySize']==1).astype(float)\n",
    "X = pd.get_dummies(X,columns=['Sex','Embarked']).astype(float)\n",
    "X_test = pd.get_dummies(X_test,columns=['Sex','Embarked']).astype(float)\n",
    "X_test = X_test.reindex(columns=X.columns,fill_value=0)\n",
    "\n",
    "\n"
   ]
  },
  {
   "cell_type": "code",
   "execution_count": 739,
   "metadata": {},
   "outputs": [],
   "source": [
    "scalar = StandardScaler()\n",
    "numerical_features = ['Age', 'Fare', 'SibSp', 'Parch', 'FamilySize']\n",
    "X.loc[:,numerical_features] = scalar.fit_transform(X[numerical_features])\n",
    "X_test.loc[:,numerical_features] = scalar.transform(X_test[numerical_features])"
   ]
  },
  {
   "cell_type": "code",
   "execution_count": 740,
   "metadata": {},
   "outputs": [],
   "source": [
    "poly = PolynomialFeatures()\n",
    "X_poly = poly.fit_transform(X)\n",
    "X_test_poly = poly.transform(X_test)"
   ]
  },
  {
   "cell_type": "code",
   "execution_count": 741,
   "metadata": {},
   "outputs": [],
   "source": [
    "X_train, X_val, y_train, y_val = train_test_split(X_poly,y_train,test_size=0.2,random_state=1)"
   ]
  },
  {
   "cell_type": "code",
   "execution_count": 742,
   "metadata": {},
   "outputs": [
    {
     "name": "stdout",
     "output_type": "stream",
     "text": [
      "Logistic Regression:\n",
      " - Accuracy: 0.7765\n",
      " - ROC AUC: 0.8242\n",
      " - Confusion Matrix:\n",
      "[[98  8]\n",
      " [32 41]]\n",
      " - Classification Report:\n",
      "              precision    recall  f1-score   support\n",
      "\n",
      "           0       0.75      0.92      0.83       106\n",
      "           1       0.84      0.56      0.67        73\n",
      "\n",
      "    accuracy                           0.78       179\n",
      "   macro avg       0.80      0.74      0.75       179\n",
      "weighted avg       0.79      0.78      0.77       179\n",
      "\n",
      "\n",
      "\n",
      "Random Forest:\n",
      " - Accuracy: 0.7821\n",
      " - ROC AUC: 0.8346\n",
      " - Confusion Matrix:\n",
      "[[93 13]\n",
      " [26 47]]\n",
      " - Classification Report:\n",
      "              precision    recall  f1-score   support\n",
      "\n",
      "           0       0.78      0.88      0.83       106\n",
      "           1       0.78      0.64      0.71        73\n",
      "\n",
      "    accuracy                           0.78       179\n",
      "   macro avg       0.78      0.76      0.77       179\n",
      "weighted avg       0.78      0.78      0.78       179\n",
      "\n",
      "\n",
      "\n",
      "XGBoost:\n",
      " - Accuracy: 0.7765\n",
      " - ROC AUC: 0.8367\n",
      " - Confusion Matrix:\n",
      "[[94 12]\n",
      " [28 45]]\n",
      " - Classification Report:\n",
      "              precision    recall  f1-score   support\n",
      "\n",
      "           0       0.77      0.89      0.82       106\n",
      "           1       0.79      0.62      0.69        73\n",
      "\n",
      "    accuracy                           0.78       179\n",
      "   macro avg       0.78      0.75      0.76       179\n",
      "weighted avg       0.78      0.78      0.77       179\n",
      "\n"
     ]
    }
   ],
   "source": [
    "# Evaluate Logistic Regression\n",
    "reg = LogisticRegression(C=1, max_iter=1000, random_state=1)\n",
    "reg.fit(X_train, y_train)\n",
    "y_pred_val = reg.predict(X_val)\n",
    "accuracy = accuracy_score(y_val, y_pred_val)\n",
    "roc_auc = roc_auc_score(y_val, reg.predict_proba(X_val)[:, 1])\n",
    "print(\"Logistic Regression:\")\n",
    "print(f\" - Accuracy: {accuracy:.4f}\")\n",
    "print(f\" - ROC AUC: {roc_auc:.4f}\")\n",
    "print(f\" - Confusion Matrix:\\n{confusion_matrix(y_val, y_pred_val)}\")\n",
    "print(f\" - Classification Report:\\n{classification_report(y_val, y_pred_val)}\")\n",
    "print(\"\\n\")\n",
    "\n",
    "# Evaluate Random Forest\n",
    "rf = RandomForestClassifier(n_estimators=100, random_state=1)\n",
    "rf.fit(X_train, y_train)\n",
    "y_pred_val = rf.predict(X_val)\n",
    "accuracy = accuracy_score(y_val, y_pred_val)\n",
    "roc_auc = roc_auc_score(y_val, rf.predict_proba(X_val)[:, 1])\n",
    "print(\"Random Forest:\")\n",
    "print(f\" - Accuracy: {accuracy:.4f}\")\n",
    "print(f\" - ROC AUC: {roc_auc:.4f}\")\n",
    "print(f\" - Confusion Matrix:\\n{confusion_matrix(y_val, y_pred_val)}\")\n",
    "print(f\" - Classification Report:\\n{classification_report(y_val, y_pred_val)}\")\n",
    "print(\"\\n\")\n",
    "\n",
    "# Evaluate XGBoost\n",
    "xgb = XGBClassifier(n_estimators=100, random_state=1)\n",
    "xgb.fit(X_train, y_train)\n",
    "y_pred_val = xgb.predict(X_val)\n",
    "accuracy = accuracy_score(y_val, y_pred_val)\n",
    "roc_auc = roc_auc_score(y_val, xgb.predict_proba(X_val)[:, 1])\n",
    "print(\"XGBoost:\")\n",
    "print(f\" - Accuracy: {accuracy:.4f}\")\n",
    "print(f\" - ROC AUC: {roc_auc:.4f}\")\n",
    "print(f\" - Confusion Matrix:\\n{confusion_matrix(y_val, y_pred_val)}\")\n",
    "print(f\" - Classification Report:\\n{classification_report(y_val, y_pred_val)}\")\n"
   ]
  },
  {
   "cell_type": "code",
   "execution_count": 743,
   "metadata": {},
   "outputs": [],
   "source": [
    "# y_pred = rf.predict(X_test_poly)"
   ]
  },
  {
   "cell_type": "code",
   "execution_count": 744,
   "metadata": {},
   "outputs": [],
   "source": [
    "# result = pd.DataFrame(\n",
    "#     {\n",
    "#         \"PassengerId\":list(range(892,892+len(y_pred))),\n",
    "#         \"Survived\" : y_pred\n",
    "#     }\n",
    "#     )\n",
    "# result.to_csv(\"submission.csv\",index=False)"
   ]
  },
  {
   "cell_type": "code",
   "execution_count": null,
   "metadata": {},
   "outputs": [],
   "source": []
  }
 ],
 "metadata": {
  "kernelspec": {
   "display_name": "Python 3",
   "language": "python",
   "name": "python3"
  },
  "language_info": {
   "codemirror_mode": {
    "name": "ipython",
    "version": 3
   },
   "file_extension": ".py",
   "mimetype": "text/x-python",
   "name": "python",
   "nbconvert_exporter": "python",
   "pygments_lexer": "ipython3",
   "version": "3.12.4"
  }
 },
 "nbformat": 4,
 "nbformat_minor": 2
}
