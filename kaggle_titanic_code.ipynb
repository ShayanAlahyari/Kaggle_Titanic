{
 "cells": [
  {
   "cell_type": "code",
   "execution_count": 30,
   "metadata": {},
   "outputs": [],
   "source": [
    "import numpy as np\n",
    "import pandas as pd\n",
    "import matplotlib.pyplot as plt\n",
    "import seaborn as sns\n",
    "from sklearn.impute import SimpleImputer\n",
    "from sklearn.model_selection import train_test_split, cross_val_score,GridSearchCV\n",
    "from sklearn.linear_model import LogisticRegression\n",
    "from sklearn.metrics import accuracy_score, confusion_matrix, classification_report, roc_auc_score, roc_curve\n",
    "from sklearn.preprocessing import StandardScaler, PolynomialFeatures\n",
    "from sklearn.ensemble import RandomForestClassifier\n",
    "from xgboost import XGBClassifier\n",
    "from sklearn.svm import SVC\n",
    "from sklearn.ensemble import AdaBoostClassifier\n",
    "from sklearn.neighbors import KNeighborsClassifier\n",
    "from sklearn.neural_network import MLPClassifier\n",
    "from sklearn.ensemble import VotingClassifier\n"
   ]
  },
  {
   "cell_type": "code",
   "execution_count": 31,
   "metadata": {},
   "outputs": [],
   "source": [
    "data = pd.read_csv('train.csv')\n",
    "result = data['Survived']\n",
    "data.drop('PassengerId', axis=1, inplace=True)\n",
    "data.drop('Survived', axis=1, inplace=True)\n",
    "data.drop('Ticket', axis=1, inplace=True)\n",
    "\n",
    "data['Survived'] = result\n",
    "X = data.iloc[:, :-1]\n",
    "y_train = data.iloc[:, -1]\n",
    "test_data = pd.read_csv('test.csv')\n",
    "test_data.drop('PassengerId', axis=1, inplace=True)\n",
    "X_test = test_data.iloc[:, :]\n",
    "\n",
    "# Process the 'Name' feature\n",
    "X['Name'] = X['Name'].apply(lambda x: x.split(\", \")[1][:4])\n",
    "\n",
    "# Handle missing values in 'Cabin'\n",
    "X['Cabin'] = X['Cabin'].fillna('Missing')\n",
    "X['Cabin'] = X['Cabin'].apply(lambda x: x[0] if x != 'Missing' else 'M')\n",
    "\n",
    "# Handle missing values in 'Ticket' (if needed)\n",
    "# X['Ticket'] = X['Ticket'].fillna(np.nan)\n",
    "\n",
    "# Check the updated dataframe\n"
   ]
  },
  {
   "cell_type": "code",
   "execution_count": 32,
   "metadata": {},
   "outputs": [],
   "source": [
    "categorical_features = ['Name','Sex','Embarked','Cabin']\n",
    "imputer = SimpleImputer(strategy='most_frequent')\n",
    "X.loc[:,categorical_features] = imputer.fit_transform(X[categorical_features])\n",
    "X_test.loc[:,categorical_features] = imputer.transform(X_test[categorical_features])\n",
    "imputer = SimpleImputer(strategy='median')\n",
    "X.loc[:,'Age'] = imputer.fit_transform(X[['Age']])\n",
    "X_test.loc[:,'Age'] = imputer.transform(X_test[['Age']])\n",
    "X.loc[:,'Fare'] = imputer.fit_transform(X[['Fare']])\n",
    "X_test.loc[:,'Fare'] = imputer.transform(X_test[['Fare']])\n",
    "X = X.copy()\n",
    "X_test = X_test.copy()\n",
    "X.loc[:,'FamilySize'] = X.loc[:,'SibSp'] + X.loc[:,'Parch'] + 1\n",
    "X.loc[:,'IsAlone'] = (X.loc[:,'FamilySize']==1).astype(float)\n",
    "X_test.loc[:,'FamilySize'] = X_test.loc[:,'SibSp'] + X_test.loc[:,'Parch'] + 1\n",
    "X_test.loc[:,'IsAlone'] = (X_test.loc[:,'FamilySize']==1).astype(float)\n",
    "X = pd.get_dummies(X,columns=['Sex','Embarked','Name','Cabin'])\n",
    "X_test = pd.get_dummies(X_test,columns=['Sex','Embarked','Name','Cabin'])\n",
    "X_test = X_test.reindex(columns=X.columns,fill_value=0)\n",
    "\n",
    "\n"
   ]
  },
  {
   "cell_type": "code",
   "execution_count": 33,
   "metadata": {},
   "outputs": [],
   "source": [
    "scalar = StandardScaler()\n",
    "numerical_features = ['Age', 'Fare', 'SibSp', 'Parch','FamilySize']\n",
    "X[numerical_features] = X[numerical_features].astype(float)\n",
    "X_test[numerical_features] = X_test[numerical_features].astype(float)\n",
    "X.loc[:,numerical_features] = scalar.fit_transform(X[numerical_features])\n",
    "X_test.loc[:,numerical_features] = scalar.transform(X_test[numerical_features])"
   ]
  },
  {
   "cell_type": "code",
   "execution_count": 34,
   "metadata": {},
   "outputs": [],
   "source": [
    "poly = PolynomialFeatures()\n",
    "X_poly = poly.fit_transform(X)\n",
    "X_test_poly = poly.transform(X_test)"
   ]
  },
  {
   "cell_type": "code",
   "execution_count": 35,
   "metadata": {},
   "outputs": [],
   "source": [
    "X_train, X_val, y_train, y_val = train_test_split(X_poly,y_train,test_size=0.2)"
   ]
  },
  {
   "cell_type": "code",
   "execution_count": 36,
   "metadata": {},
   "outputs": [
    {
     "name": "stdout",
     "output_type": "stream",
     "text": [
      "Logistic Regression:\n",
      " - Accuracy: 0.8492\n",
      "[[101  11]\n",
      " [ 16  51]]\n",
      "Random Forest:\n",
      " - Accuracy: 0.8603\n",
      "[[100  12]\n",
      " [ 13  54]]\n",
      "XGBoost:\n",
      " - Accuracy: 0.8324\n",
      "[[94 18]\n",
      " [12 55]]\n",
      "SVM Accuracy: 0.8715\n",
      "[[99 13]\n",
      " [10 57]]\n"
     ]
    },
    {
     "name": "stderr",
     "output_type": "stream",
     "text": [
      "/Library/Frameworks/Python.framework/Versions/3.12/lib/python3.12/site-packages/sklearn/ensemble/_weight_boosting.py:527: FutureWarning: The SAMME.R algorithm (the default) is deprecated and will be removed in 1.6. Use the SAMME algorithm to circumvent this warning.\n",
      "  warnings.warn(\n"
     ]
    },
    {
     "name": "stdout",
     "output_type": "stream",
     "text": [
      "AdaBoost Accuracy: 0.8324\n",
      "[[100  12]\n",
      " [ 18  49]]\n",
      "KNN Accuracy: 0.8212\n",
      "[[96 16]\n",
      " [16 51]]\n",
      "MLP Accuracy: 0.8212\n",
      "[[95 17]\n",
      " [15 52]]\n",
      "Voting Classifier Accuracy: 0.8659\n",
      "[[102  10]\n",
      " [ 14  53]]\n"
     ]
    }
   ],
   "source": [
    "reg = LogisticRegression(C=1, max_iter=1000, random_state=1)\n",
    "reg.fit(X_train, y_train)\n",
    "y_pred_val = reg.predict(X_val)\n",
    "accuracy = accuracy_score(y_val, y_pred_val)\n",
    "cm = confusion_matrix(y_val, y_pred_val)\n",
    "print(\"Logistic Regression:\")\n",
    "print(f\" - Accuracy: {accuracy:.4f}\")\n",
    "print(cm)\n",
    "\n",
    "\n",
    "\n",
    "rf = RandomForestClassifier(n_estimators=100, random_state=1)\n",
    "rf.fit(X_train, y_train)\n",
    "y_pred_val = rf.predict(X_val)\n",
    "accuracy = accuracy_score(y_val, y_pred_val)\n",
    "print(\"Random Forest:\")\n",
    "print(f\" - Accuracy: {accuracy:.4f}\")\n",
    "cm = confusion_matrix(y_val, y_pred_val)\n",
    "print(cm)\n",
    "\n",
    "\n",
    "xgb = XGBClassifier(n_estimators=100, random_state=1)\n",
    "xgb.fit(X_train, y_train)\n",
    "y_pred_val = xgb.predict(X_val)\n",
    "accuracy = accuracy_score(y_val, y_pred_val)\n",
    "print(\"XGBoost:\")\n",
    "print(f\" - Accuracy: {accuracy:.4f}\")\n",
    "cm = confusion_matrix(y_val, y_pred_val)\n",
    "print(cm)\n",
    "\n",
    "svm = SVC(probability=True, random_state=1)\n",
    "svm.fit(X_train, y_train)\n",
    "y_pred_val = svm.predict(X_val)\n",
    "accuracy = accuracy_score(y_val, y_pred_val)\n",
    "print(f\"SVM Accuracy: {accuracy:.4f}\")\n",
    "cm = confusion_matrix(y_val, y_pred_val)\n",
    "print(cm)\n",
    "\n",
    "\n",
    "ada = AdaBoostClassifier(n_estimators=100, random_state=1)\n",
    "ada.fit(X_train, y_train)\n",
    "y_pred_val = ada.predict(X_val)\n",
    "accuracy = accuracy_score(y_val, y_pred_val)\n",
    "print(f\"AdaBoost Accuracy: {accuracy:.4f}\")\n",
    "cm = confusion_matrix(y_val, y_pred_val)\n",
    "print(cm)\n",
    "\n",
    "\n",
    "\n",
    "\n",
    "knn = KNeighborsClassifier(n_neighbors=5)\n",
    "knn.fit(X_train, y_train)\n",
    "y_pred_val = knn.predict(X_val)\n",
    "accuracy = accuracy_score(y_val, y_pred_val)\n",
    "print(f\"KNN Accuracy: {accuracy:.4f}\")\n",
    "cm = confusion_matrix(y_val, y_pred_val)\n",
    "print(cm)\n",
    "\n",
    "\n",
    "mlp = MLPClassifier(hidden_layer_sizes=(100,), max_iter=500, random_state=1)\n",
    "mlp.fit(X_train, y_train)\n",
    "y_pred_val = mlp.predict(X_val)\n",
    "accuracy = accuracy_score(y_val, y_pred_val)\n",
    "print(f\"MLP Accuracy: {accuracy:.4f}\")\n",
    "cm = confusion_matrix(y_val, y_pred_val)\n",
    "print(cm)\n",
    "\n",
    "\n",
    "\n",
    "\n",
    "voting_clf = VotingClassifier(estimators=[\n",
    "    ('lr', LogisticRegression(C=1, max_iter=1000, random_state=1)),\n",
    "    ('rf', RandomForestClassifier(n_estimators=100, random_state=1)),\n",
    "    ('xgb', XGBClassifier(n_estimators=100, random_state=1))\n",
    "], voting='soft')\n",
    "\n",
    "voting_clf.fit(X_train, y_train)\n",
    "y_pred_val = voting_clf.predict(X_val)\n",
    "accuracy = accuracy_score(y_val, y_pred_val)\n",
    "print(f\"Voting Classifier Accuracy: {accuracy:.4f}\")\n",
    "cm = confusion_matrix(y_val, y_pred_val)\n",
    "print(cm)"
   ]
  },
  {
   "cell_type": "code",
   "execution_count": 37,
   "metadata": {},
   "outputs": [],
   "source": [
    "y_pred = svm.predict(X_test_poly)"
   ]
  },
  {
   "cell_type": "code",
   "execution_count": 38,
   "metadata": {},
   "outputs": [],
   "source": [
    "result = pd.DataFrame(\n",
    "    {\n",
    "        \"PassengerId\":list(range(892,892+len(y_pred))),\n",
    "        \"Survived\" : y_pred\n",
    "    }\n",
    "    )\n",
    "result.to_csv(\"submission.csv\",index=False)"
   ]
  },
  {
   "cell_type": "code",
   "execution_count": null,
   "metadata": {},
   "outputs": [],
   "source": []
  }
 ],
 "metadata": {
  "kernelspec": {
   "display_name": "Python 3",
   "language": "python",
   "name": "python3"
  },
  "language_info": {
   "codemirror_mode": {
    "name": "ipython",
    "version": 3
   },
   "file_extension": ".py",
   "mimetype": "text/x-python",
   "name": "python",
   "nbconvert_exporter": "python",
   "pygments_lexer": "ipython3",
   "version": "3.12.4"
  }
 },
 "nbformat": 4,
 "nbformat_minor": 2
}
